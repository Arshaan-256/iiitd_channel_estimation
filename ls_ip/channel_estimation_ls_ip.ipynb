{
 "cells": [
  {
   "cell_type": "code",
   "execution_count": 2,
   "metadata": {},
   "outputs": [],
   "source": [
    "from pynq import allocate\n",
    "from pynq import Overlay\n",
    "import matplotlib.pyplot as plt\n",
    "import numpy as np\n",
    "import random\n",
    "\n",
    "overlay = Overlay('./ls_ip.bit')"
   ]
  },
  {
   "cell_type": "code",
   "execution_count": null,
   "metadata": {},
   "outputs": [],
   "source": [
    "# overlay?"
   ]
  },
  {
   "cell_type": "code",
   "execution_count": 3,
   "metadata": {},
   "outputs": [],
   "source": [
    "dma = overlay.axi_dma_0\n",
    "leastsq = overlay.leastSquare_0"
   ]
  },
  {
   "cell_type": "code",
   "execution_count": 4,
   "metadata": {},
   "outputs": [],
   "source": [
    "def load_xin_file(filename):\n",
    "    data = np.zeros(shape=(104,200))\n",
    "    with open(filename, 'r') as reader:\n",
    "        file_data = reader.readlines()\n",
    "        for idx, line in enumerate(file_data):\n",
    "            line = line[:-1]\n",
    "            line = line.split(\" \")\n",
    "            arr = np.asarray(line, dtype=np.float32)\n",
    "            data[idx] = arr\n",
    "    data = data.transpose()\n",
    "    data = data[0]\n",
    "    return data\n",
    "\n",
    "def load_yin_file(filename):\n",
    "    data = np.zeros(shape=(200,104))\n",
    "    with open(filename, 'r') as reader:\n",
    "        file_data = reader.readlines()\n",
    "        for idx, line in enumerate(file_data):\n",
    "            line = line.replace(\"{\",\"\")\n",
    "            line = line.replace(\"}\",\"\")\n",
    "            line = line[:-2]\n",
    "            line = line.split(\",\")\n",
    "            if len(line) == 1:\n",
    "                continue\n",
    "            arr = np.asarray(line, dtype=np.float32)\n",
    "            data[idx] = arr\n",
    "    return data\n",
    "\n",
    "def load_actual_file(filename):\n",
    "    data = np.zeros(shape=(104,200))\n",
    "    with open(filename, 'r') as reader:\n",
    "        file_data = reader.readlines()\n",
    "        for idx, line in enumerate(file_data):\n",
    "            line = line[:-1]\n",
    "            line = line.split(\" \")\n",
    "            arr = np.asarray(line, dtype=np.float32)\n",
    "            data[idx] = arr\n",
    "            \n",
    "    data = data.transpose()\n",
    "    return data"
   ]
  },
  {
   "cell_type": "code",
   "execution_count": 5,
   "metadata": {},
   "outputs": [],
   "source": [
    "from pynq import allocate\n",
    "\n",
    "in_buffer = allocate(shape=(2*104,), dtype=np.float32)\n",
    "out_buffer = allocate(shape=(2*104,), dtype=np.float32)"
   ]
  },
  {
   "cell_type": "code",
   "execution_count": 6,
   "metadata": {},
   "outputs": [],
   "source": [
    "import time\n",
    "def wait_2_seconds(i):\n",
    "    stage = [\"Prior IP run\", \"Running IP\", \"Post IP run\"]\n",
    "    print(\"*\"*50)\n",
    "    start_time = time.time()\n",
    "    while (time.time() - start_time) < 2:\n",
    "        print(f\"{stage[i]} LS IP Read: {leastsq.read(0x00)}\")\n",
    "    print(\"*\"*50)\n",
    "    return True"
   ]
  },
  {
   "cell_type": "code",
   "execution_count": 7,
   "metadata": {},
   "outputs": [],
   "source": [
    "def run_ip(yin, xin):\n",
    "    for idx in range(2*104):\n",
    "        if idx<104:\n",
    "            in_buffer[idx] = yin[idx]\n",
    "        else:\n",
    "            in_buffer[idx] = xin[idx-104]\n",
    "    \n",
    "    leastsq.write(0x00, 0x1)\n",
    "    dma.sendchannel.transfer(in_buffer)\n",
    "    \n",
    "    # wait_2_seconds(1)\n",
    "    \n",
    "    dma.recvchannel.transfer(out_buffer)\n",
    "    return out_buffer"
   ]
  },
  {
   "cell_type": "code",
   "execution_count": 9,
   "metadata": {},
   "outputs": [
    {
     "name": "stdout",
     "output_type": "stream",
     "text": [
      "\n",
      "Signal: 1\n",
      "  Channel: 200\n",
      "Signal: 2\n",
      "  Channel: 200\n",
      "Signal: 3\n",
      "  Channel: 200\n",
      "Signal: 4\n",
      "  Channel: 200\n",
      "Signal: 5\n",
      "  Channel: 200\n",
      "Signal: 6\n",
      "  Channel: 200\n",
      "Signal: 7\n",
      "  Channel: 200\r"
     ]
    }
   ],
   "source": [
    "N_SNR = 7\n",
    "N_CH = 200\n",
    "\n",
    "IP_output = np.zeros([N_SNR, N_CH, 104])\n",
    "Err_DNN_hw = np.zeros([N_SNR,])\n",
    "Phf_hw = np.zeros([N_SNR,])\n",
    "\n",
    "for n_snr in range(N_SNR):\n",
    "    print(f\"\\nSignal: {n_snr+1}\")\n",
    "    \n",
    "    xin = load_xin_file(\"./../data/XinC_1.txt\")\n",
    "    yin = load_yin_file(f\"./../data/Yinc_m{n_snr+1}m.dat\")\n",
    "    act = load_actual_file(f\"./../data/actual{n_snr+1}.txt\")\n",
    "    \n",
    "    for n_ch in range(N_CH):\n",
    "        print(f\"  Channel: {n_ch+1}\\r\", end=\"\")\n",
    "        \n",
    "        # wait_2_seconds(0)\n",
    "        \n",
    "        op = run_ip(yin[n_ch], xin)\n",
    "        \n",
    "        # wait_2_seconds(2)\n",
    "        \n",
    "        op = op[:104]\n",
    "        IP_output[n_snr,n_ch,:] = op\n",
    "    \n",
    "    # 2-norm (largest sing. value)\n",
    "    Err_DNN_hw[n_snr] += np.linalg.norm(act - IP_output[n_snr], 2)**2\n",
    "    Phf_hw[n_snr] +=  np.linalg.norm(act, 2)**2\n",
    "\n",
    "Err_DNN_hw /=  104\n",
    "Phf_hw /= 104\n",
    "Err_DNN_normalized_hw = Err_DNN_hw / Phf_hw"
   ]
  },
  {
   "cell_type": "code",
   "execution_count": 11,
   "metadata": {},
   "outputs": [
    {
     "name": "stdout",
     "output_type": "stream",
     "text": [
      " Yin \t IP Output\n",
      " -1.0381289720535278 \t -1.0381289720535278\n",
      " -0.895986020565033 \t -0.895986020565033\n",
      " -0.10849999636411667 \t 0.10849999636411667\n",
      " -0.5767679810523987 \t 0.5767679810523987\n",
      " 0.31094199419021606 \t 0.31094199419021606\n",
      " 0.3948349952697754 \t 0.3948349952697754\n",
      " -0.7973669767379761 \t 0.7973669767379761\n",
      " -0.23349300026893616 \t -0.23349300026893616\n",
      " 0.09016700088977814 \t -0.09016700088977814\n",
      " -1.0224939584732056 \t -1.0224939584732056\n",
      " -1.0437840223312378 \t -1.0437840223312378\n",
      " -0.7242969870567322 \t -0.7242969870567322\n",
      " -0.1795330047607422 \t -0.1795330047607422\n",
      " 0.34515100717544556 \t 0.34515100717544556\n",
      " 0.5818729996681213 \t 0.5818729996681213\n",
      " -0.9965010285377502 \t 0.9965010285377502\n",
      " -0.44297999143600464 \t 0.44297999143600464\n",
      " -0.8039249777793884 \t -0.8039249777793884\n",
      " -1.1927030086517334 \t -1.1927030086517334\n",
      " 0.5235530138015747 \t -0.5235530138015747\n",
      " -0.6702049970626831 \t -0.6702049970626831\n",
      " -0.5606279969215393 \t 0.5606279969215393\n",
      " 0.41303300857543945 \t 0.41303300857543945\n",
      " 0.513759970664978 \t 0.513759970664978\n",
      " 0.24084800481796265 \t 0.24084800481796265\n",
      " -0.2468000054359436 \t -0.2468000054359436\n",
      " -0.9938459992408752 \t -0.9938459992408752\n",
      " 0.3641299903392792 \t -0.3641299903392792\n",
      " 0.07818199694156647 \t -0.07818199694156647\n",
      " -0.2514289915561676 \t -0.2514289915561676\n",
      " 0.1689710021018982 \t 0.1689710021018982\n",
      " -1.012598991394043 \t 1.012598991394043\n",
      " 0.3383159935474396 \t 0.3383159935474396\n",
      " -0.5985689759254456 \t 0.5985689759254456\n",
      " -0.5113199949264526 \t -0.5113199949264526\n",
      " 0.3272320032119751 \t -0.3272320032119751\n",
      " 0.4791199862957001 \t -0.4791199862957001\n",
      " 0.2717359960079193 \t -0.2717359960079193\n",
      " -0.21168400347232819 \t 0.21168400347232819\n",
      " -0.7526649832725525 \t 0.7526649832725525\n",
      " 0.48674601316452026 \t 0.48674601316452026\n",
      " 0.46753498911857605 \t 0.46753498911857605\n",
      " -0.6948559880256653 \t 0.6948559880256653\n",
      " -0.12010899931192398 \t 0.12010899931192398\n",
      " -0.9872779846191406 \t -0.9872779846191406\n",
      " 0.5557420253753662 \t -0.5557420253753662\n",
      " -0.9382719993591309 \t -0.9382719993591309\n",
      " -0.2031800001859665 \t 0.2031800001859665\n",
      " 0.17094799876213074 \t 0.17094799876213074\n",
      " 0.5201719999313354 \t 0.5201719999313354\n",
      " 0.4757480025291443 \t 0.4757480025291443\n",
      " 0.06597600132226944 \t 0.06597600132226944\n",
      " 0.41723498702049255 \t 0.41723498702049255\n",
      " 0.8801980018615723 \t 0.8801980018615723\n",
      " -0.23126700520515442 \t 0.23126700520515442\n",
      " -0.19890399277210236 \t 0.19890399277210236\n",
      " 0.8070420026779175 \t 0.8070420026779175\n",
      " 0.3542400002479553 \t 0.3542400002479553\n",
      " 0.9748979806900024 \t -0.9748979806900024\n",
      " -0.26061999797821045 \t -0.26061999797821045\n",
      " 1.0826950073242188 \t -1.0826950073242188\n",
      " 0.20906099677085876 \t 0.20906099677085876\n",
      " 0.7219120264053345 \t 0.7219120264053345\n",
      " 1.1529109477996826 \t 1.1529109477996826\n",
      " 1.2874189615249634 \t 1.2874189615249634\n",
      " 1.0277379751205444 \t 1.0277379751205444\n",
      " 0.4680030047893524 \t 0.4680030047893524\n",
      " 1.0447230339050293 \t -1.0447230339050293\n",
      " 1.367190957069397 \t -1.367190957069397\n",
      " -0.3199700117111206 \t -0.3199700117111206\n",
      " 0.20241199433803558 \t 0.20241199433803558\n",
      " 0.071042001247406 \t -0.071042001247406\n",
      " 1.2819219827651978 \t 1.2819219827651978\n",
      " -0.38270899653434753 \t 0.38270899653434753\n",
      " 0.9205489754676819 \t 0.9205489754676819\n",
      " 0.35471099615097046 \t 0.35471099615097046\n",
      " -0.12099500000476837 \t -0.12099500000476837\n",
      " -0.3075940012931824 \t -0.3075940012931824\n",
      " 0.23428000509738922 \t 0.23428000509738922\n",
      " 0.22146500647068024 \t -0.22146500647068024\n",
      " -0.1308560073375702 \t 0.1308560073375702\n",
      " 1.1599550247192383 \t 1.1599550247192383\n",
      " 0.9849950075149536 \t 0.9849950075149536\n",
      " 0.33375900983810425 \t -0.33375900983810425\n",
      " 0.11327499896287918 \t 0.11327499896287918\n",
      " 1.1435840129852295 \t -1.1435840129852295\n",
      " -0.27204298973083496 \t -0.27204298973083496\n",
      " 0.9038079977035522 \t -0.9038079977035522\n",
      " 0.40074700117111206 \t -0.40074700117111206\n",
      " -0.0934630036354065 \t 0.0934630036354065\n",
      " -0.3456360101699829 \t 0.3456360101699829\n",
      " -0.22847500443458557 \t 0.22847500443458557\n",
      " 0.7038140296936035 \t 0.7038140296936035\n",
      " 0.13615000247955322 \t 0.13615000247955322\n",
      " 1.209210991859436 \t -1.209210991859436\n",
      " 1.290639042854309 \t -1.290639042854309\n",
      " -0.06182299926877022 \t -0.06182299926877022\n",
      " 0.4171780049800873 \t -0.4171780049800873\n",
      " 1.0483909845352173 \t 1.0483909845352173\n",
      " -0.40056198835372925 \t 0.40056198835372925\n",
      " 1.179618000984192 \t 1.179618000984192\n",
      " 0.7003290057182312 \t 0.7003290057182312\n",
      " 0.11301799863576889 \t 0.11301799863576889\n",
      " -0.3019010126590729 \t -0.3019010126590729\n"
     ]
    }
   ],
   "source": [
    "n_snr = 0\n",
    "n_ch = 0\n",
    "yin = load_yin_file(f\"./../data/Yinc_m{n_snr+1}m.dat\")\n",
    "print(f\" Yin \\t IP Output\")\n",
    "for i in range(104):\n",
    "    print(f\" {yin[n_ch, i]} \\t {IP_output[n_snr, n_ch, i]}\")"
   ]
  },
  {
   "cell_type": "code",
   "execution_count": 12,
   "metadata": {},
   "outputs": [
    {
     "name": "stdout",
     "output_type": "stream",
     "text": [
      "[1.17738927e+00 3.79963109e-01 1.16320961e-01 3.58048640e-02\n",
      " 1.07467376e-02 3.85467260e-03 9.35095608e-04]\n"
     ]
    }
   ],
   "source": [
    "print(Err_DNN_normalized_hw)"
   ]
  },
  {
   "cell_type": "code",
   "execution_count": 13,
   "metadata": {},
   "outputs": [
    {
     "data": {
      "image/png": "[encoded data removed]",
      "text/plain": [
       "<matplotlib.figure.Figure at 0x7f6d257208>"
      ]
     },
     "metadata": {},
     "output_type": "display_data"
    }
   ],
   "source": [
    "plt.semilogy(np.arange(0, N_SNR*5, 5), Err_DNN_normalized_hw)\n",
    "plt.xlabel(\"Preamble SNR\")\n",
    "plt.ylabel(\"Average Error per subcarrier\")\n",
    "plt.show()"
   ]
  },
  {
   "cell_type": "code",
   "execution_count": 14,
   "metadata": {},
   "outputs": [
    {
     "data": {
      "text/plain": [
       "array([[-1.03812897, -0.89598602,  0.1085    , ...,  0.70032901,\n",
       "         0.113018  , -0.30190101],\n",
       "       [ 0.157701  ,  0.63607299,  1.21284997, ..., -0.91760498,\n",
       "        -0.66222203,  0.200697  ],\n",
       "       [ 0.74327499,  1.10473502, -0.63569999, ..., -0.98781198,\n",
       "        -1.51866806, -1.83411503],\n",
       "       ...,\n",
       "       [ 0.82737899,  0.90943497, -1.100577  , ...,  0.51791501,\n",
       "         0.415315  ,  0.116634  ],\n",
       "       [-0.27631101, -0.171382  ,  0.34815499, ..., -1.04417801,\n",
       "        -1.10378003, -0.83997703],\n",
       "       [ 0.88639802,  0.54068798, -0.97302598, ...,  0.129384  ,\n",
       "         0.25719199,  0.016987  ]])"
      ]
     },
     "execution_count": 14,
     "metadata": {},
     "output_type": "execute_result"
    }
   ],
   "source": [
    "IP_output[0]"
   ]
  },
  {
   "cell_type": "code",
   "execution_count": null,
   "metadata": {},
   "outputs": [],
   "source": []
  }
 ],
 "metadata": {
  "kernelspec": {
   "display_name": "Python 3",
   "language": "python",
   "name": "python3"
  },
  "language_info": {
   "codemirror_mode": {
    "name": "ipython",
    "version": 3
   },
   "file_extension": ".py",
   "mimetype": "text/x-python",
   "name": "python",
   "nbconvert_exporter": "python",
   "pygments_lexer": "ipython3",
   "version": "3.6.5"
  }
 },
 "nbformat": 4,
 "nbformat_minor": 2
}
