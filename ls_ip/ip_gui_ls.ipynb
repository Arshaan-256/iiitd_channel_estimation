{
 "cells": [
  {
   "cell_type": "code",
   "execution_count": 1,
   "metadata": {},
   "outputs": [
    {
     "data": {
      "application/javascript": [
       "\n",
       "try {\n",
       "require(['notebook/js/codecell'], function(codecell) {\n",
       "  codecell.CodeCell.options_default.highlight_modes[\n",
       "      'magic_text/x-csrc'] = {'reg':[/^%%pybind11/]};\n",
       "  Jupyter.notebook.events.one('kernel_ready.Kernel', function(){\n",
       "      Jupyter.notebook.get_cells().map(function(cell){\n",
       "          if (cell.cell_type == 'code'){ cell.auto_highlight(); } }) ;\n",
       "  });\n",
       "});\n",
       "} catch (e) {};\n"
      ]
     },
     "metadata": {},
     "output_type": "display_data"
    }
   ],
   "source": [
    "import sys\n",
    "import numpy as np\n",
    "from pynq import Overlay\n",
    "from pynq import allocate\n",
    "\n",
    "# some handy functions to use along widgets\n",
    "from IPython.display import display, Markdown, clear_output\n",
    "# widget packages\n",
    "import ipywidgets as widgets\n",
    "\n",
    "%matplotlib inline\n",
    "import matplotlib.pyplot as plt"
   ]
  },
  {
   "cell_type": "code",
   "execution_count": 2,
   "metadata": {},
   "outputs": [],
   "source": [
    "def load_xin_file(filename):\n",
    "    data = np.zeros(shape=(104,200))\n",
    "    with open(filename, 'r') as reader:\n",
    "        file_data = reader.readlines()\n",
    "        for idx, line in enumerate(file_data):\n",
    "            line = line[:-1]\n",
    "            line = line.split(\" \")\n",
    "            arr = np.asarray(line, dtype=np.float32)\n",
    "            data[idx] = arr\n",
    "    data = data.transpose()\n",
    "    data = data[0]\n",
    "    return data\n",
    "\n",
    "def load_yin_file(filename):\n",
    "    data = np.zeros(shape=(200,104))\n",
    "    with open(filename, 'r') as reader:\n",
    "        file_data = reader.readlines()\n",
    "        for idx, line in enumerate(file_data):\n",
    "            line = line.replace(\"{\",\"\")\n",
    "            line = line.replace(\"}\",\"\")\n",
    "            line = line[:-2]\n",
    "            line = line.split(\",\")\n",
    "            if len(line) == 1:\n",
    "                continue\n",
    "            arr = np.asarray(line, dtype=np.float32)\n",
    "            data[idx] = arr\n",
    "    return data\n",
    "\n",
    "def load_actual_file(filename):\n",
    "    data = np.zeros(shape=(104,200))\n",
    "    with open(filename, 'r') as reader:\n",
    "        file_data = reader.readlines()\n",
    "        for idx, line in enumerate(file_data):\n",
    "            line = line[:-1]\n",
    "            line = line.split(\" \")\n",
    "            arr = np.asarray(line, dtype=np.float32)\n",
    "            data[idx] = arr\n",
    "            \n",
    "    data = data.transpose()\n",
    "    return data\n",
    "\n",
    "def run_ip(yin, xin):\n",
    "    for idx in range(2*104):\n",
    "        if idx<104:\n",
    "            in_buffer[idx] = yin[idx]\n",
    "        else:\n",
    "            in_buffer[idx] = xin[idx-104]\n",
    "    \n",
    "    leastsq.write(0x00, 0x1)\n",
    "    \n",
    "    dma.sendchannel.transfer(in_buffer)\n",
    "    dma.recvchannel.transfer(out_buffer)\n",
    "    return out_buffer"
   ]
  },
  {
   "cell_type": "code",
   "execution_count": 3,
   "metadata": {},
   "outputs": [
    {
     "data": {
      "application/vnd.jupyter.widget-view+json": {
       "model_id": "ca81b89862c0448b93428e6bf3771e95",
       "version_major": 2,
       "version_minor": 0
      },
      "text/plain": [
       "HBox(children=(Button(description='Load the IP', style=ButtonStyle()), Button(description='Run IP', style=Butt…"
      ]
     },
     "metadata": {},
     "output_type": "display_data"
    }
   ],
   "source": [
    "box_layout = widgets.Layout(display='flex',\n",
    "                flex_flow='column',\n",
    "                align_items='center',\n",
    "                width='100%')\n",
    "\n",
    "btn_load_IP = widgets.Button(description='Load the IP')\n",
    "btn_run_ip = widgets.Button(description='Run IP')\n",
    "btn_plot = widgets.Button(description='Plot')\n",
    "out = widgets.Output()\n",
    "\n",
    "data = np.zeros(shape=(104,200))\n",
    "def btn_load_IP_on_click(_):\n",
    "     # \"linking function with output\"\n",
    "    with out:\n",
    "        # what happens when we press the button\n",
    "        clear_output()\n",
    "        global overlay\n",
    "        global dma\n",
    "        global leastsq\n",
    "        global in_buffer\n",
    "        global out_buffer\n",
    "        \n",
    "        overlay = Overlay('./../misc/ls_ip.bit')\n",
    "        dma = overlay.axi_dma_0\n",
    "        leastsq = overlay.leastSquare_0\n",
    "        \n",
    "        in_buffer = allocate(shape=(2*104,), dtype=np.float32)\n",
    "        out_buffer = allocate(shape=(104,), dtype=np.float32)\n",
    "        print(\"IP loaded!\")\n",
    "\n",
    "def btn_run_ip_on_click(_):\n",
    "    # \"linking function with output\"\n",
    "    with out:\n",
    "    # what happens when we press the button\n",
    "        clear_output()\n",
    "        print(\"Running IP...\\n\") \n",
    "        \n",
    "        global N_SNR\n",
    "        global N_CH\n",
    "        global IP_output\n",
    "        global Err_DNN_hw\n",
    "        global Phf_hw\n",
    "        global Err_DNN_normalized_hw\n",
    "        \n",
    "        N_SNR = 7\n",
    "        N_CH = 200\n",
    "\n",
    "        IP_output = np.zeros([N_SNR, N_CH, 104])\n",
    "        Err_DNN_hw = np.zeros([N_SNR,])\n",
    "        Phf_hw = np.zeros([N_SNR,])\n",
    "\n",
    "        for n_snr in range(N_SNR):\n",
    "            print(f\"Signal: {n_snr+1}\")\n",
    "\n",
    "            xin = load_xin_file(\"./../data/XinC_1.txt\")\n",
    "            yin = load_yin_file(f\"./../data/Yinc_m{n_snr+1}m.dat\")\n",
    "            act = load_actual_file(f\"./../data/actual{n_snr+1}.txt\")[0:N_CH]\n",
    "\n",
    "            for n_ch in range(N_CH):\n",
    "                print(f\"  Channel: {n_ch+1}\\r\", end=\"\")\n",
    "\n",
    "                op = run_ip(yin[n_ch], xin)\n",
    "                op = op[:104]\n",
    "                IP_output[n_snr,n_ch,:] = op\n",
    "\n",
    "            # 2-norm (largest sing. value)\n",
    "            Err_DNN_hw[n_snr] += np.linalg.norm(act - IP_output[n_snr], 2)**2\n",
    "            Phf_hw[n_snr] +=  np.linalg.norm(act, 2)**2\n",
    "            print(\"\\n\")\n",
    "        Err_DNN_hw /=  104\n",
    "        Phf_hw /= 104\n",
    "        Err_DNN_normalized_hw = Err_DNN_hw / Phf_hw\n",
    "        print(\"IP run finished!\") \n",
    "\n",
    "def btn_plot_on_click(_):\n",
    "    # \"linking function with output\"\n",
    "    with out:\n",
    "    # what happens when we press the button\n",
    "        clear_output()\n",
    "        plt.semilogy(np.arange(0, N_SNR*5, 5), Err_DNN_normalized_hw)\n",
    "        plt.xlabel(\"Preamble SNR\")\n",
    "        plt.ylabel(\"Average Error per subcarrier\")\n",
    "        plt.show()\n",
    "        \n",
    "# linking button and function together using a button's method\n",
    "btn_load_IP.on_click(btn_load_IP_on_click)\n",
    "btn_run_ip.on_click(btn_run_ip_on_click)\n",
    "btn_plot.on_click(btn_plot_on_click)\n",
    "\n",
    "# displaying button and its output together\n",
    "widgets.HBox([btn_load_IP, btn_run_ip, btn_plot, out], layout=box_layout)"
   ]
  },
  {
   "cell_type": "code",
   "execution_count": 4,
   "metadata": {},
   "outputs": [
    {
     "data": {
      "text/plain": [
       "array([1.17738927e+00, 3.79963109e-01, 1.16320961e-01, 3.58048640e-02,\n",
       "       1.07467376e-02, 3.85467260e-03, 9.35095608e-04])"
      ]
     },
     "execution_count": 4,
     "metadata": {},
     "output_type": "execute_result"
    }
   ],
   "source": [
    "Err_DNN_normalized_hw"
   ]
  },
  {
   "cell_type": "code",
   "execution_count": 5,
   "metadata": {},
   "outputs": [
    {
     "data": {
      "text/plain": [
       "array([[-1.03812897, -0.89598602,  0.1085    , ...,  0.70032901,\n",
       "         0.113018  , -0.30190101],\n",
       "       [ 0.157701  ,  0.63607299,  1.21284997, ..., -0.91760498,\n",
       "        -0.66222203,  0.200697  ],\n",
       "       [ 0.74327499,  1.10473502, -0.63569999, ..., -0.98781198,\n",
       "        -1.51866806, -1.83411503],\n",
       "       ...,\n",
       "       [ 0.82737899,  0.90943497, -1.100577  , ...,  0.51791501,\n",
       "         0.415315  ,  0.116634  ],\n",
       "       [-0.27631101, -0.171382  ,  0.34815499, ..., -1.04417801,\n",
       "        -1.10378003, -0.83997703],\n",
       "       [ 0.88639802,  0.54068798, -0.97302598, ...,  0.129384  ,\n",
       "         0.25719199,  0.016987  ]])"
      ]
     },
     "execution_count": 5,
     "metadata": {},
     "output_type": "execute_result"
    }
   ],
   "source": [
    "IP_output[0]"
   ]
  },
  {
   "cell_type": "code",
   "execution_count": null,
   "metadata": {},
   "outputs": [],
   "source": []
  }
 ],
 "metadata": {
  "kernelspec": {
   "display_name": "Python 3",
   "language": "python",
   "name": "python3"
  },
  "language_info": {
   "codemirror_mode": {
    "name": "ipython",
    "version": 3
   },
   "file_extension": ".py",
   "mimetype": "text/x-python",
   "name": "python",
   "nbconvert_exporter": "python",
   "pygments_lexer": "ipython3",
   "version": "3.6.5"
  }
 },
 "nbformat": 4,
 "nbformat_minor": 2
}
