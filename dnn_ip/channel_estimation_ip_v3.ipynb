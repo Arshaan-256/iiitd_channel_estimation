{
 "cells": [
  {
   "cell_type": "code",
   "execution_count": 8,
   "metadata": {},
   "outputs": [],
   "source": [
    "from pynq import allocate\n",
    "from pynq import Overlay\n",
    "import matplotlib.pyplot as plt\n",
    "import numpy as np"
   ]
  },
  {
   "cell_type": "code",
   "execution_count": 9,
   "metadata": {},
   "outputs": [],
   "source": [
    "def load_xin_file(filename):\n",
    "    data = np.zeros(shape=(104,200))\n",
    "    with open(filename, 'r') as reader:\n",
    "        file_data = reader.readlines()\n",
    "        for idx, line in enumerate(file_data):\n",
    "            line = line[:-1]\n",
    "            line = line.split(\" \")\n",
    "            arr = np.asarray(line, dtype=np.float32)\n",
    "            data[idx] = arr\n",
    "    data = data.transpose()\n",
    "    data = data[0]\n",
    "    return data\n",
    "\n",
    "def load_yin_file(filename):\n",
    "    data = np.zeros(shape=(200,104))\n",
    "    with open(filename, 'r') as reader:\n",
    "        file_data = reader.readlines()\n",
    "        for idx, line in enumerate(file_data):\n",
    "            line = line.replace(\"{\",\"\")\n",
    "            line = line.replace(\"}\",\"\")\n",
    "            line = line[:-2]\n",
    "            line = line.split(\",\")\n",
    "            if len(line) == 1:\n",
    "                continue\n",
    "            arr = np.asarray(line, dtype=np.float32)\n",
    "            data[idx] = arr\n",
    "    return data\n",
    "\n",
    "def load_actual_file(filename):\n",
    "    data = np.zeros(shape=(104,200))\n",
    "    with open(filename, 'r') as reader:\n",
    "        file_data = reader.readlines()\n",
    "        for idx, line in enumerate(file_data):\n",
    "            line = line[:-1]\n",
    "            line = line.split(\" \")\n",
    "            arr = np.asarray(line, dtype=np.float32)\n",
    "            data[idx] = arr\n",
    "            \n",
    "    data = data.transpose()\n",
    "    return data"
   ]
  },
  {
   "cell_type": "code",
   "execution_count": 34,
   "metadata": {},
   "outputs": [],
   "source": [
    "ls_overlay = Overlay('./ls_ip/ls_ip.bit')\n",
    "ls_dma = ls_overlay.axi_dma_0\n",
    "ls_leastsq = ls_overlay.leastSquare_0"
   ]
  },
  {
   "cell_type": "code",
   "execution_count": 35,
   "metadata": {},
   "outputs": [],
   "source": [
    "in_buffer = allocate(shape=(2*104,), dtype=np.float32)\n",
    "out_buffer = allocate(shape=(104,), dtype=np.float32)"
   ]
  },
  {
   "cell_type": "code",
   "execution_count": 36,
   "metadata": {},
   "outputs": [],
   "source": [
    "def run_ls_ip(yin, xin):\n",
    "    for idx in range(2*104):\n",
    "        if idx<104:\n",
    "            in_buffer[idx] = yin[idx]\n",
    "        else:\n",
    "            in_buffer[idx] = xin[idx-104]\n",
    "    \n",
    "    ls_leastsq.write(0x00, 0x1)\n",
    "    ls_dma.sendchannel.transfer(in_buffer)\n",
    "    ls_dma.recvchannel.transfer(out_buffer)\n",
    "    return out_buffer"
   ]
  },
  {
   "cell_type": "code",
   "execution_count": 37,
   "metadata": {},
   "outputs": [
    {
     "name": "stdout",
     "output_type": "stream",
     "text": [
      "\n",
      "Signal: 1\n",
      "  Channel: 200\n",
      "Signal: 2\n",
      "  Channel: 200\n",
      "Signal: 3\n",
      "  Channel: 200\n",
      "Signal: 4\n",
      "  Channel: 200\n",
      "Signal: 5\n",
      "  Channel: 200\n",
      "Signal: 6\n",
      "  Channel: 200\n",
      "Signal: 7\n",
      "  Channel: 200\r"
     ]
    }
   ],
   "source": [
    "N_SNR = 7\n",
    "N_CH = 200\n",
    "\n",
    "ls_IP_output = np.zeros([N_SNR, N_CH, 104])\n",
    "ls_Err_DNN_hw = np.zeros([N_SNR,])\n",
    "ls_Phf_hw = np.zeros([N_SNR,])\n",
    "\n",
    "for n_snr in range(N_SNR):\n",
    "    print(f\"\\nSignal: {n_snr+1}\")\n",
    "    \n",
    "    xin = load_xin_file(\"./data/XinC_1.txt\")\n",
    "    yin = load_yin_file(f\"./data/Yinc_m{n_snr+1}m.dat\")\n",
    "    act = load_actual_file(f\"./data/actual{n_snr+1}.txt\")\n",
    "    \n",
    "    for n_ch in range(N_CH):\n",
    "        print(f\"  Channel: {n_ch+1}\\r\", end=\"\")\n",
    "        op = run_ls_ip(yin[n_ch], xin)        \n",
    "        ls_IP_output[n_snr,n_ch,:] = op\n",
    "    \n",
    "    # 2-norm (largest sing. value)\n",
    "    ls_Err_DNN_hw[n_snr] += np.linalg.norm(act - ls_IP_output[n_snr], 2)**2\n",
    "    ls_Phf_hw[n_snr] +=  np.linalg.norm(act, 2)**2\n",
    "\n",
    "ls_Err_DNN_hw /=  200\n",
    "ls_Phf_hw /= 200\n",
    "ls_Err_DNN_normalized_hw = ls_Err_DNN_hw / ls_Phf_hw"
   ]
  },
  {
   "cell_type": "code",
   "execution_count": 38,
   "metadata": {},
   "outputs": [],
   "source": [
    "dnn_overlay = Overlay('./opt_ip.bit')\n",
    "dnn_dma = dnn_overlay.axi_dma_0\n",
    "dnn_leastsq = dnn_overlay.leastSquare_0\n",
    "dnn_neuralnet = dnn_overlay.neuralNetworkHw_0"
   ]
  },
  {
   "cell_type": "code",
   "execution_count": 39,
   "metadata": {},
   "outputs": [],
   "source": [
    "from pynq import allocate\n",
    "\n",
    "in_buffer = allocate(shape=(2*104,), dtype=np.float32)\n",
    "out_buffer = allocate(shape=(104,), dtype=np.float32)"
   ]
  },
  {
   "cell_type": "code",
   "execution_count": 40,
   "metadata": {},
   "outputs": [],
   "source": [
    "def run_dnn_ip(yin, xin):\n",
    "    for idx in range(2*104):\n",
    "        if idx<104:\n",
    "            in_buffer[idx] = yin[idx]\n",
    "        else:\n",
    "            in_buffer[idx] = xin[idx-104]\n",
    "    \n",
    "    dnn_leastsq.write(0x00, 0x1)\n",
    "    dnn_neuralnet.write(0x00, 0x1)\n",
    "    dnn_dma.sendchannel.transfer(in_buffer)\n",
    "    dnn_dma.recvchannel.transfer(out_buffer)\n",
    "\n",
    "    return out_buffer"
   ]
  },
  {
   "cell_type": "code",
   "execution_count": 41,
   "metadata": {},
   "outputs": [
    {
     "name": "stdout",
     "output_type": "stream",
     "text": [
      "\n",
      "Signal: 1\n",
      "  Channel: 200\n",
      "Signal: 2\n",
      "  Channel: 200\n",
      "Signal: 3\n",
      "  Channel: 200\n",
      "Signal: 4\n",
      "  Channel: 200\n",
      "Signal: 5\n",
      "  Channel: 200\n",
      "Signal: 6\n",
      "  Channel: 200\n",
      "Signal: 7\n",
      "  Channel: 200\r"
     ]
    }
   ],
   "source": [
    "N_SNR = 7\n",
    "N_CH = 200\n",
    "\n",
    "dnn_IP_output = np.zeros([N_SNR, N_CH, 104])\n",
    "dnn_Err_DNN_hw = np.zeros([N_SNR,])\n",
    "dnn_Phf_hw = np.zeros([N_SNR,])\n",
    "\n",
    "for n_snr in range(N_SNR):\n",
    "    print(f\"\\nSignal: {n_snr+1}\")\n",
    "    \n",
    "    xin = load_xin_file(\"./data/XinC_1.txt\")\n",
    "    yin = load_yin_file(f\"./data/Yinc_m{n_snr+1}m.dat\")\n",
    "    act = load_actual_file(f\"./data/actual{n_snr+1}.txt\")\n",
    "    \n",
    "    for n_ch in range(N_CH):\n",
    "        print(f\"  Channel: {n_ch+1}\\r\", end=\"\")\n",
    "        op = run_dnn_ip(yin[n_ch], xin)        \n",
    "        op = op[:104]\n",
    "        dnn_IP_output[n_snr,n_ch,:] = op\n",
    "    \n",
    "    # 2-norm (largest sing. value)\n",
    "    dnn_Err_DNN_hw[n_snr] += np.linalg.norm(act - dnn_IP_output[n_snr], 2)**2\n",
    "    dnn_Phf_hw[n_snr] +=  np.linalg.norm(act, 2)**2\n",
    "\n",
    "dnn_Err_DNN_hw /=  200\n",
    "dnn_Phf_hw /= 200\n",
    "dnn_Err_DNN_normalized_hw = dnn_Err_DNN_hw / dnn_Phf_hw"
   ]
  },
  {
   "cell_type": "code",
   "execution_count": 42,
   "metadata": {},
   "outputs": [
    {
     "data": {
      "image/png": "[encoded data removed]",
      "text/plain": [
       "<matplotlib.figure.Figure at 0x7f6b9cd2b0>"
      ]
     },
     "metadata": {},
     "output_type": "display_data"
    }
   ],
   "source": [
    "plt.semilogy(np.arange(0, N_SNR*5, 5), ls_Err_DNN_normalized_hw)\n",
    "plt.semilogy(np.arange(0, N_SNR*5, 5), dnn_Err_DNN_normalized_hw)\n",
    "plt.xlabel(\"Preamble SNR\")\n",
    "plt.ylabel(\"Average Error per subcarrier\")\n",
    "plt.show()"
   ]
  },
  {
   "cell_type": "code",
   "execution_count": null,
   "metadata": {},
   "outputs": [],
   "source": []
  }
 ],
 "metadata": {
  "kernelspec": {
   "display_name": "Python 3",
   "language": "python",
   "name": "python3"
  },
  "language_info": {
   "codemirror_mode": {
    "name": "ipython",
    "version": 3
   },
   "file_extension": ".py",
   "mimetype": "text/x-python",
   "name": "python",
   "nbconvert_exporter": "python",
   "pygments_lexer": "ipython3",
   "version": "3.6.5"
  }
 },
 "nbformat": 4,
 "nbformat_minor": 2
}
